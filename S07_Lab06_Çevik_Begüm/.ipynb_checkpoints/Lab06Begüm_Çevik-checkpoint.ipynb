{
 "cells": [
  {
   "cell_type": "markdown",
   "metadata": {},
   "source": [
    "# CS 115 Introduction to Programming with Python\n",
    "## Lab Guide 15\n",
    "### Objectives: Two Dimensional Lists, Numpy Module"
   ]
  },
  {
   "cell_type": "markdown",
   "metadata": {},
   "source": [
    "## Question 1\n",
    "Write a function that takes a 3x3 list of integers and returns True if the list contains all integer values between 1 and 9, False if not."
   ]
  },
  {
   "cell_type": "code",
   "execution_count": 104,
   "metadata": {},
   "outputs": [],
   "source": [
    "def funct (array):\n",
    "    List=[]\n",
    "    mylist=[1,2,3,4,5,6,7,8,9]\n",
    "    for i in array:\n",
    "        for j in i:\n",
    "            List.append(j)\n",
    "    List.sort()\n",
    "    return List == mylist\n",
    "        "
   ]
  },
  {
   "cell_type": "markdown",
   "metadata": {},
   "source": [
    "Initialize a 3x3 two dimensional list with the following values: 1,9,5,4,7,6,3,8,2. \n",
    "Pass the array to the function and display the result."
   ]
  },
  {
   "cell_type": "code",
   "execution_count": 106,
   "metadata": {},
   "outputs": [
    {
     "data": {
      "text/plain": [
       "False"
      ]
     },
     "execution_count": 106,
     "metadata": {},
     "output_type": "execute_result"
    }
   ],
   "source": [
    "array=[[1,9,5],[4,8,6],[3,8,2]]\n",
    "funct(array)"
   ]
  },
  {
   "cell_type": "code",
   "execution_count": null,
   "metadata": {},
   "outputs": [],
   "source": []
  },
  {
   "cell_type": "code",
   "execution_count": null,
   "metadata": {},
   "outputs": [],
   "source": []
  },
  {
   "cell_type": "markdown",
   "metadata": {},
   "source": [
    "## Question 2\n",
    "Download the files: catsM_1 to catsM_5.  These file contain data about cats and their body and heart weight.\n",
    "* catsM_1: contains the sex of 97 cats, 1: Female, 2:Male.\n",
    "* catsM_2: contains the body weight(in kg) of the first 15 cats.\n",
    "* catsM_3: contains the heart weight(in grams) of the first 15 cats.\n",
    "* catsM_4: contains the body weight(in kg)  of the last 82 cats.\n",
    "* catsM_5: contains the heart weight(in grams) of the last 82 cats.\n"
   ]
  },
  {
   "cell_type": "markdown",
   "metadata": {},
   "source": [
    "### Import numpy"
   ]
  },
  {
   "cell_type": "code",
   "execution_count": 107,
   "metadata": {},
   "outputs": [],
   "source": [
    "import numpy as np"
   ]
  },
  {
   "cell_type": "markdown",
   "metadata": {},
   "source": [
    "### Load the data from the files above into numpy arrays."
   ]
  },
  {
   "cell_type": "code",
   "execution_count": 108,
   "metadata": {},
   "outputs": [],
   "source": [
    "cat1=np.loadtxt(\"catsM_1.csv\", skiprows=1)\n",
    "cat2=np.loadtxt(\"catsM_2.csv\", skiprows=1)\n",
    "cat3=np.loadtxt(\"catsM_3.csv\", skiprows=1)\n",
    "cat4=np.loadtxt(\"catsM_4.csv\", skiprows=1)\n",
    "cat5=np.loadtxt(\"catsM_5.csv\", skiprows=1)"
   ]
  },
  {
   "cell_type": "markdown",
   "metadata": {},
   "source": [
    "### Reshape all arrays, to have n rows, and 1 column. For example, the array containing the sex of all cats should have 97 rows and 1 column.  \n",
    "#### The array containing the body weight of the first 15 cats should have 15 rows and 1 column."
   ]
  },
  {
   "cell_type": "code",
   "execution_count": 109,
   "metadata": {
    "scrolled": true
   },
   "outputs": [],
   "source": [
    "arr1=cat1.reshape(cat1.size,1)\n",
    "arr2=cat2.reshape(15,1)\n",
    "arr3=cat3.reshape(15,1)\n",
    "arr4=cat4.reshape(82,1)\n",
    "arr5=cat5.reshape(82,1)\n"
   ]
  },
  {
   "cell_type": "markdown",
   "metadata": {},
   "source": [
    "Using concatenate, vstack and hstack, create a table (97x3 array) that contains the columns: sex, body weight, heart weight."
   ]
  },
  {
   "cell_type": "code",
   "execution_count": 95,
   "metadata": {},
   "outputs": [
    {
     "data": {
      "text/plain": [
       "array([[ 2. ,  2. ,  6.5],\n",
       "       [ 2. ,  2. ,  6.5],\n",
       "       [ 1. ,  2.1, 10.1],\n",
       "       [ 2. ,  2.2,  7.2],\n",
       "       [ 2. ,  2.2,  7.6],\n",
       "       [ 2. ,  2.2,  7.9],\n",
       "       [ 1. ,  2.2,  8.5],\n",
       "       [ 1. ,  2.2,  9.1],\n",
       "       [ 2. ,  2.2,  9.6],\n",
       "       [ 2. ,  2.2,  9.6],\n",
       "       [ 2. ,  2.2, 10.7],\n",
       "       [ 1. ,  2.3,  9.6],\n",
       "       [ 2. ,  2.4,  7.3],\n",
       "       [ 2. ,  2.4,  7.9],\n",
       "       [ 2. ,  2.4,  7.9],\n",
       "       [ 1. ,  2.4,  9.1],\n",
       "       [ 2. ,  2.4,  9.3],\n",
       "       [ 2. ,  2.5,  7.9],\n",
       "       [ 2. ,  2.5,  8.6],\n",
       "       [ 2. ,  2.5,  8.8],\n",
       "       [ 2. ,  2.5,  8.8],\n",
       "       [ 1. ,  2.5,  9.3],\n",
       "       [ 1. ,  2.5, 11. ],\n",
       "       [ 2. ,  2.5, 12.7],\n",
       "       [ 2. ,  2.5, 12.7],\n",
       "       [ 2. ,  2.6,  7.7],\n",
       "       [ 1. ,  2.6,  8.3],\n",
       "       [ 2. ,  2.6,  9.4],\n",
       "       [ 2. ,  2.6,  9.4],\n",
       "       [ 1. ,  2.6, 10.5],\n",
       "       [ 2. ,  2.6, 11.5],\n",
       "       [ 2. ,  2.7,  8. ],\n",
       "       [ 2. ,  2.7,  9. ],\n",
       "       [ 2. ,  2.7,  9.6],\n",
       "       [ 2. ,  2.7,  9.6],\n",
       "       [ 1. ,  2.7,  9.8],\n",
       "       [ 2. ,  2.7, 10.4],\n",
       "       [ 2. ,  2.7, 11.1],\n",
       "       [ 2. ,  2.7, 12. ],\n",
       "       [ 1. ,  2.7, 12.5],\n",
       "       [ 2. ,  2.8,  9.1],\n",
       "       [ 2. ,  2.8, 10. ],\n",
       "       [ 2. ,  2.8, 10.2],\n",
       "       [ 2. ,  2.8, 11.4],\n",
       "       [ 2. ,  2.8, 12. ],\n",
       "       [ 2. ,  2.8, 13.3],\n",
       "       [ 2. ,  2.8, 13.5],\n",
       "       [ 1. ,  2.9,  9.4],\n",
       "       [ 2. ,  2.9, 10.1],\n",
       "       [ 2. ,  2.9, 10.6],\n",
       "       [ 1. ,  2.9, 11.3],\n",
       "       [ 2. ,  2.9, 11.8],\n",
       "       [ 2. ,  3. , 10. ],\n",
       "       [ 2. ,  3. , 10.4],\n",
       "       [ 1. ,  3. , 10.6],\n",
       "       [ 2. ,  3. , 11.6],\n",
       "       [ 2. ,  3. , 12.2],\n",
       "       [ 2. ,  3. , 12.4],\n",
       "       [ 2. ,  3. , 12.7],\n",
       "       [ 1. ,  3. , 13.3],\n",
       "       [ 2. ,  3. , 13.8],\n",
       "       [ 2. ,  3.1,  9.9],\n",
       "       [ 2. ,  3.1, 11.5],\n",
       "       [ 1. ,  3.1, 12.1],\n",
       "       [ 2. ,  3.1, 12.5],\n",
       "       [ 2. ,  3.1, 13. ],\n",
       "       [ 2. ,  3.1, 14.3],\n",
       "       [ 2. ,  3.2, 11.6],\n",
       "       [ 2. ,  3.2, 11.9],\n",
       "       [ 2. ,  3.2, 12.3],\n",
       "       [ 1. ,  3.2, 13. ],\n",
       "       [ 2. ,  3.2, 13.5],\n",
       "       [ 2. ,  3.2, 13.6],\n",
       "       [ 2. ,  3.3, 11.5],\n",
       "       [ 2. ,  3.3, 12. ],\n",
       "       [ 2. ,  3.3, 14.1],\n",
       "       [ 2. ,  3.3, 14.9],\n",
       "       [ 2. ,  3.3, 15.4],\n",
       "       [ 2. ,  3.4, 11.2],\n",
       "       [ 2. ,  3.4, 12.2],\n",
       "       [ 2. ,  3.4, 12.4],\n",
       "       [ 2. ,  3.4, 12.8],\n",
       "       [ 2. ,  3.4, 14.4],\n",
       "       [ 1. ,  3.5, 11.7],\n",
       "       [ 2. ,  3.5, 12.9],\n",
       "       [ 2. ,  3.5, 15.6],\n",
       "       [ 2. ,  3.5, 15.7],\n",
       "       [ 2. ,  3.5, 17.2],\n",
       "       [ 2. ,  3.6, 11.8],\n",
       "       [ 1. ,  3.6, 13.3],\n",
       "       [ 1. ,  3.6, 14.8],\n",
       "       [ 1. ,  3.6, 15. ],\n",
       "       [ 2. ,  3.7, 11. ],\n",
       "       [ 2. ,  3.8, 14.8],\n",
       "       [ 2. ,  3.8, 16.8],\n",
       "       [ 1. ,  3.9, 14.4],\n",
       "       [ 2. ,  3.9, 20.5]])"
      ]
     },
     "execution_count": 95,
     "metadata": {},
     "output_type": "execute_result"
    }
   ],
   "source": [
    "bw = np.vstack([arr2,arr4])\n",
    "hw = np.concatenate([arr3,arr5])\n",
    "f_array = np.hstack([arr1,bw,hw])\n",
    "f_array"
   ]
  },
  {
   "cell_type": "markdown",
   "metadata": {},
   "source": [
    "### Decrease the body weight of all cats by 10% and display the result. (Table should be updated)"
   ]
  },
  {
   "cell_type": "code",
   "execution_count": 110,
   "metadata": {},
   "outputs": [
    {
     "data": {
      "text/plain": [
       "array([[ 2.  ,  1.8 ,  6.5 ],\n",
       "       [ 2.  ,  1.8 ,  6.5 ],\n",
       "       [ 1.  ,  1.89, 10.1 ],\n",
       "       [ 2.  ,  1.98,  7.2 ],\n",
       "       [ 2.  ,  1.98,  7.6 ],\n",
       "       [ 2.  ,  1.98,  7.9 ],\n",
       "       [ 1.  ,  1.98,  8.5 ],\n",
       "       [ 1.  ,  1.98,  9.1 ],\n",
       "       [ 2.  ,  1.98,  9.6 ],\n",
       "       [ 2.  ,  1.98,  9.6 ],\n",
       "       [ 2.  ,  1.98, 10.7 ],\n",
       "       [ 1.  ,  2.07,  9.6 ],\n",
       "       [ 2.  ,  2.16,  7.3 ],\n",
       "       [ 2.  ,  2.16,  7.9 ],\n",
       "       [ 2.  ,  2.16,  7.9 ],\n",
       "       [ 1.  ,  2.16,  9.1 ],\n",
       "       [ 2.  ,  2.16,  9.3 ],\n",
       "       [ 2.  ,  2.25,  7.9 ],\n",
       "       [ 2.  ,  2.25,  8.6 ],\n",
       "       [ 2.  ,  2.25,  8.8 ],\n",
       "       [ 2.  ,  2.25,  8.8 ],\n",
       "       [ 1.  ,  2.25,  9.3 ],\n",
       "       [ 1.  ,  2.25, 11.  ],\n",
       "       [ 2.  ,  2.25, 12.7 ],\n",
       "       [ 2.  ,  2.25, 12.7 ],\n",
       "       [ 2.  ,  2.34,  7.7 ],\n",
       "       [ 1.  ,  2.34,  8.3 ],\n",
       "       [ 2.  ,  2.34,  9.4 ],\n",
       "       [ 2.  ,  2.34,  9.4 ],\n",
       "       [ 1.  ,  2.34, 10.5 ],\n",
       "       [ 2.  ,  2.34, 11.5 ],\n",
       "       [ 2.  ,  2.43,  8.  ],\n",
       "       [ 2.  ,  2.43,  9.  ],\n",
       "       [ 2.  ,  2.43,  9.6 ],\n",
       "       [ 2.  ,  2.43,  9.6 ],\n",
       "       [ 1.  ,  2.43,  9.8 ],\n",
       "       [ 2.  ,  2.43, 10.4 ],\n",
       "       [ 2.  ,  2.43, 11.1 ],\n",
       "       [ 2.  ,  2.43, 12.  ],\n",
       "       [ 1.  ,  2.43, 12.5 ],\n",
       "       [ 2.  ,  2.52,  9.1 ],\n",
       "       [ 2.  ,  2.52, 10.  ],\n",
       "       [ 2.  ,  2.52, 10.2 ],\n",
       "       [ 2.  ,  2.52, 11.4 ],\n",
       "       [ 2.  ,  2.52, 12.  ],\n",
       "       [ 2.  ,  2.52, 13.3 ],\n",
       "       [ 2.  ,  2.52, 13.5 ],\n",
       "       [ 1.  ,  2.61,  9.4 ],\n",
       "       [ 2.  ,  2.61, 10.1 ],\n",
       "       [ 2.  ,  2.61, 10.6 ],\n",
       "       [ 1.  ,  2.61, 11.3 ],\n",
       "       [ 2.  ,  2.61, 11.8 ],\n",
       "       [ 2.  ,  2.7 , 10.  ],\n",
       "       [ 2.  ,  2.7 , 10.4 ],\n",
       "       [ 1.  ,  2.7 , 10.6 ],\n",
       "       [ 2.  ,  2.7 , 11.6 ],\n",
       "       [ 2.  ,  2.7 , 12.2 ],\n",
       "       [ 2.  ,  2.7 , 12.4 ],\n",
       "       [ 2.  ,  2.7 , 12.7 ],\n",
       "       [ 1.  ,  2.7 , 13.3 ],\n",
       "       [ 2.  ,  2.7 , 13.8 ],\n",
       "       [ 2.  ,  2.79,  9.9 ],\n",
       "       [ 2.  ,  2.79, 11.5 ],\n",
       "       [ 1.  ,  2.79, 12.1 ],\n",
       "       [ 2.  ,  2.79, 12.5 ],\n",
       "       [ 2.  ,  2.79, 13.  ],\n",
       "       [ 2.  ,  2.79, 14.3 ],\n",
       "       [ 2.  ,  2.88, 11.6 ],\n",
       "       [ 2.  ,  2.88, 11.9 ],\n",
       "       [ 2.  ,  2.88, 12.3 ],\n",
       "       [ 1.  ,  2.88, 13.  ],\n",
       "       [ 2.  ,  2.88, 13.5 ],\n",
       "       [ 2.  ,  2.88, 13.6 ],\n",
       "       [ 2.  ,  2.97, 11.5 ],\n",
       "       [ 2.  ,  2.97, 12.  ],\n",
       "       [ 2.  ,  2.97, 14.1 ],\n",
       "       [ 2.  ,  2.97, 14.9 ],\n",
       "       [ 2.  ,  2.97, 15.4 ],\n",
       "       [ 2.  ,  3.06, 11.2 ],\n",
       "       [ 2.  ,  3.06, 12.2 ],\n",
       "       [ 2.  ,  3.06, 12.4 ],\n",
       "       [ 2.  ,  3.06, 12.8 ],\n",
       "       [ 2.  ,  3.06, 14.4 ],\n",
       "       [ 1.  ,  3.15, 11.7 ],\n",
       "       [ 2.  ,  3.15, 12.9 ],\n",
       "       [ 2.  ,  3.15, 15.6 ],\n",
       "       [ 2.  ,  3.15, 15.7 ],\n",
       "       [ 2.  ,  3.15, 17.2 ],\n",
       "       [ 2.  ,  3.24, 11.8 ],\n",
       "       [ 1.  ,  3.24, 13.3 ],\n",
       "       [ 1.  ,  3.24, 14.8 ],\n",
       "       [ 1.  ,  3.24, 15.  ],\n",
       "       [ 2.  ,  3.33, 11.  ],\n",
       "       [ 2.  ,  3.42, 14.8 ],\n",
       "       [ 2.  ,  3.42, 16.8 ],\n",
       "       [ 1.  ,  3.51, 14.4 ],\n",
       "       [ 2.  ,  3.51, 20.5 ]])"
      ]
     },
     "execution_count": 110,
     "metadata": {},
     "output_type": "execute_result"
    }
   ],
   "source": [
    "f_array[:,1] *= 0.9\n",
    "f_array"
   ]
  },
  {
   "cell_type": "markdown",
   "metadata": {},
   "source": [
    "### Display the indices of all female cats."
   ]
  },
  {
   "cell_type": "code",
   "execution_count": 113,
   "metadata": {},
   "outputs": [
    {
     "name": "stdout",
     "output_type": "stream",
     "text": [
      "[ 2  6  7 11 15 21 22 26 29 35 39 47 50 54 59 63 70 83 89 90 91 95]\n"
     ]
    }
   ],
   "source": [
    "female=np.where(f_array[:,0] == 1.)\n",
    "print(female[0])"
   ]
  },
  {
   "cell_type": "markdown",
   "metadata": {},
   "source": [
    "### Display the data of all male cats with heart weight over 15."
   ]
  },
  {
   "cell_type": "code",
   "execution_count": 114,
   "metadata": {},
   "outputs": [
    {
     "data": {
      "text/plain": [
       "array([[ 2.  ,  2.97, 15.4 ],\n",
       "       [ 2.  ,  3.15, 15.6 ],\n",
       "       [ 2.  ,  3.15, 15.7 ],\n",
       "       [ 2.  ,  3.15, 17.2 ],\n",
       "       [ 2.  ,  3.42, 16.8 ],\n",
       "       [ 2.  ,  3.51, 20.5 ]])"
      ]
     },
     "execution_count": 114,
     "metadata": {},
     "output_type": "execute_result"
    }
   ],
   "source": [
    "malecats = f_array[(f_array[:,0] == 2) & (f_array[:,2] > 15)]\n",
    "malecats\n"
   ]
  },
  {
   "cell_type": "code",
   "execution_count": null,
   "metadata": {},
   "outputs": [],
   "source": []
  },
  {
   "cell_type": "code",
   "execution_count": null,
   "metadata": {},
   "outputs": [],
   "source": []
  }
 ],
 "metadata": {
  "kernelspec": {
   "display_name": "Python 3",
   "language": "python",
   "name": "python3"
  },
  "language_info": {
   "codemirror_mode": {
    "name": "ipython",
    "version": 3
   },
   "file_extension": ".py",
   "mimetype": "text/x-python",
   "name": "python",
   "nbconvert_exporter": "python",
   "pygments_lexer": "ipython3",
   "version": "3.7.3"
  }
 },
 "nbformat": 4,
 "nbformat_minor": 2
}
